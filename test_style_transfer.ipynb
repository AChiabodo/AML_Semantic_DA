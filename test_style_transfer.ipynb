{
 "cells": [
  {
   "cell_type": "code",
   "execution_count": 22,
   "metadata": {},
   "outputs": [],
   "source": [
    "import torch\n",
    "from utils.fda import FDA_source_to_target\n",
    "from utils.aug import ExtCompose, ExtToTensor, ExtRandomHorizontalFlip , ExtScale , ExtRandomCrop, ExtGaussianBlur, ExtColorJitter, ExtRandomCompose, ExtResize, ExtNormalize\n",
    "from datasets.cityscapes import CityScapes\n",
    "from datasets.GTA5 import GTA5\n",
    "from torch.utils.data import DataLoader\n",
    "from PIL import Image\n",
    "import numpy as np"
   ]
  },
  {
   "cell_type": "markdown",
   "metadata": {},
   "source": [
    "## FDA Style Transfer Test"
   ]
  },
  {
   "cell_type": "code",
   "execution_count": 23,
   "metadata": {},
   "outputs": [
    {
     "data": {
      "text/plain": [
       "25"
      ]
     },
     "execution_count": 23,
     "metadata": {},
     "output_type": "execute_result"
    }
   ],
   "source": [
    "beta = 0.05\n",
    "h = 512\n",
    "w = 1024\n",
    "b = (  np.floor(np.amin((h,w))*beta)  ).astype(int)\n",
    "b"
   ]
  },
  {
   "cell_type": "code",
   "execution_count": 21,
   "metadata": {},
   "outputs": [
    {
     "name": "stdout",
     "output_type": "stream",
     "text": [
      "root:  dataset\n"
     ]
    }
   ],
   "source": [
    "standard_transformations = ExtCompose([ExtScale(0.5,interpolation=Image.Resampling.BILINEAR), ExtToTensor()])\n",
    "transformations = ExtCompose([ExtResize((512,1024)), ExtToTensor()])\n",
    "target_transformations = standard_transformations\n",
    "\n",
    "train_dataset = GTA5(root='dataset',transforms=transformations)\n",
    "target_dataset_train = CityScapes(split='train',transforms=target_transformations)\n",
    "\n",
    "source_dataloader_train = DataLoader(train_dataset,\n",
    "                batch_size=1,\n",
    "                shuffle=False,\n",
    "                num_workers=1,\n",
    "                pin_memory=False,\n",
    "                drop_last=True)\n",
    "target_dataloader_train = DataLoader(target_dataset_train,\n",
    "                batch_size=1,\n",
    "                shuffle=False,\n",
    "                num_workers=1,\n",
    "                pin_memory=False,\n",
    "                drop_last=True)\n",
    "\n",
    "for i, (source_data, target_data) in enumerate(zip(source_dataloader_train,target_dataloader_train)):\n",
    "  \n",
    "    if i > 5:\n",
    "        break\n",
    "\n",
    "    source_data,source_label = source_data\n",
    "    target_data,_ = target_data\n",
    "    source_data = source_data.cuda()\n",
    "    source_label = source_label.long().cuda()\n",
    "    target_data = target_data.cuda()\n",
    "\n",
    "    t_source_data = FDA_source_to_target(source_data, target_data, beta=beta)\n",
    "\n",
    "    # Visualize the image (.png) and the transformed image (.jpg)\n",
    "    Image.fromarray(target_data.detach().cpu().numpy().astype('uint8')[0].transpose(1, 2, 0)).show()\n",
    "    Image.fromarray(source_data.detach().cpu().numpy().astype('uint8')[0].transpose(1, 2, 0)).show()\n",
    "    Image.fromarray(t_source_data.detach().cpu().numpy().astype('uint8')[0].transpose(1, 2, 0)).show()\n"
   ]
  }
 ],
 "metadata": {
  "kernelspec": {
   "display_name": ".venv",
   "language": "python",
   "name": "python3"
  },
  "language_info": {
   "codemirror_mode": {
    "name": "ipython",
    "version": 3
   },
   "file_extension": ".py",
   "mimetype": "text/x-python",
   "name": "python",
   "nbconvert_exporter": "python",
   "pygments_lexer": "ipython3",
   "version": "3.10.11"
  }
 },
 "nbformat": 4,
 "nbformat_minor": 2
}
