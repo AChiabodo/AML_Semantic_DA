{
 "cells": [
  {
   "cell_type": "code",
   "execution_count": 12,
   "metadata": {},
   "outputs": [],
   "source": [
    "import torch\n",
    "from utils.fda import FDA_source_to_target\n",
    "from utils.aug import ExtCompose, ExtToTensor, ExtRandomHorizontalFlip , ExtScale , ExtRandomCrop, ExtGaussianBlur, ExtColorJitter, ExtRandomCompose, ExtResize, ExtNormalize\n",
    "from datasets.cityscapes import CityScapes\n",
    "from datasets.GTA5 import GTA5\n",
    "from torch.utils.data import DataLoader\n",
    "from PIL import Image\n",
    "import numpy as np"
   ]
  },
  {
   "cell_type": "markdown",
   "metadata": {},
   "source": [
    "## FDA TEST"
   ]
  },
  {
   "cell_type": "code",
   "execution_count": 2,
   "metadata": {},
   "outputs": [
    {
     "data": {
      "text/plain": [
       "25"
      ]
     },
     "execution_count": 2,
     "metadata": {},
     "output_type": "execute_result"
    }
   ],
   "source": [
    "beta = 0.05\n",
    "h = 512\n",
    "w = 1024\n",
    "b = (  np.floor(np.amin((h,w))*beta)  ).astype(int)\n",
    "b"
   ]
  },
  {
   "cell_type": "code",
   "execution_count": 3,
   "metadata": {},
   "outputs": [
    {
     "name": "stdout",
     "output_type": "stream",
     "text": [
      "root:  dataset\n"
     ]
    }
   ],
   "source": [
    "standard_transformations = ExtCompose([ExtScale(0.5,interpolation=Image.Resampling.BILINEAR), ExtToTensor()])\n",
    "transformations = ExtCompose([ExtResize((512,1024)), ExtToTensor()])\n",
    "target_transformations = standard_transformations\n",
    "\n",
    "train_dataset = GTA5(root='dataset',transforms=transformations)\n",
    "target_dataset_train = CityScapes(split='train',transforms=target_transformations)\n",
    "\n",
    "source_dataloader_train = DataLoader(train_dataset,\n",
    "                batch_size=1,\n",
    "                shuffle=False,\n",
    "                num_workers=1,\n",
    "                pin_memory=False,\n",
    "                drop_last=True)\n",
    "target_dataloader_train = DataLoader(target_dataset_train,\n",
    "                batch_size=1,\n",
    "                shuffle=False,\n",
    "                num_workers=1,\n",
    "                pin_memory=False,\n",
    "                drop_last=True)\n",
    "\n",
    "for i, (source_data, target_data) in enumerate(zip(source_dataloader_train,target_dataloader_train)):\n",
    "  \n",
    "    if i > 10:\n",
    "        break\n",
    "\n",
    "    source_data,source_label = source_data\n",
    "    target_data,_ = target_data\n",
    "    source_data = source_data.cuda()\n",
    "    source_label = source_label.long().cuda()\n",
    "    target_data = target_data.cuda()\n",
    "\n",
    "    t_source_data = FDA_source_to_target(source_data, target_data, beta=beta)\n",
    "\n",
    "    # Visualize the image\n",
    "    #Image.fromarray(target_data.detach().cpu().numpy().astype('uint8')[0].transpose(1, 2, 0)).show()\n",
    "    #Image.fromarray(source_data.detach().cpu().numpy().astype('uint8')[0].transpose(1, 2, 0)).show()\n",
    "    Image.fromarray(t_source_data.detach().cpu().numpy().astype('uint8')[0].transpose(1, 2, 0)).show()"
   ]
  },
  {
   "cell_type": "code",
   "execution_count": 23,
   "metadata": {},
   "outputs": [],
   "source": [
    "GTA_MEAN = torch.tensor([105.8735, 109.0072, 101.7702])\n",
    "GTA_STD = torch.tensor([56.2629, 55.8382, 55.4247])"
   ]
  },
  {
   "cell_type": "code",
   "execution_count": 25,
   "metadata": {},
   "outputs": [
    {
     "name": "stdout",
     "output_type": "stream",
     "text": [
      "root:  dataset\n",
      "2000\n",
      "0\n",
      "100\n",
      "200\n",
      "300\n",
      "400\n",
      "500\n",
      "600\n",
      "700\n",
      "800\n",
      "900\n",
      "1000\n",
      "1100\n",
      "1200\n",
      "1300\n",
      "1400\n",
      "1500\n",
      "1600\n",
      "1700\n",
      "1800\n",
      "1900\n",
      "0\n",
      "100\n",
      "200\n",
      "300\n",
      "400\n",
      "500\n",
      "600\n",
      "700\n",
      "800\n",
      "900\n",
      "1000\n",
      "1100\n",
      "1200\n",
      "1300\n",
      "1400\n",
      "1500\n",
      "tensor([ 2.4673e-06, -2.8932e-07,  2.0480e-06])\n",
      "tensor([1.0000, 1.0000, 1.0000])\n"
     ]
    }
   ],
   "source": [
    "standard_transformations = ExtCompose([ExtResize((512,1024)), ExtToTensor()])\n",
    "transformations = ExtCompose([ExtResize((512,1024)), ExtToTensor(), ExtNormalize(mean=GTA_MEAN,std=GTA_STD)])\n",
    "target_transformations = standard_transformations\n",
    "\n",
    "train_dataset = GTA5(root='dataset',transforms=transformations)\n",
    "target_dataset_train = CityScapes(split='train',transforms=transformations)\n",
    "\n",
    "source_dataloader_train = DataLoader(train_dataset,\n",
    "                batch_size=1,\n",
    "                shuffle=False,\n",
    "                num_workers=6,\n",
    "                pin_memory=False,\n",
    "                drop_last=True)\n",
    "target_dataloader_train = DataLoader(target_dataset_train,\n",
    "                batch_size=1,\n",
    "                shuffle=False,\n",
    "                num_workers=6,\n",
    "                pin_memory=False,\n",
    "                drop_last=True)\n",
    "mean = 0.\n",
    "std = 0.\n",
    "K = 1000\n",
    "print(len(source_dataloader_train))\n",
    "for i , (data , labels) in enumerate(source_dataloader_train):\n",
    "    mean += data.mean(keepdim=True,dim=(0,2,3))\n",
    "    std += data.std(keepdim=True, dim=(0,2,3))\n",
    "    if i % 100 == 0:\n",
    "        print(i)\n",
    "for i , (data , labels) in enumerate(target_dataloader_train):\n",
    "    mean += data.mean(keepdim=True,dim=(0,2,3))\n",
    "    std += data.std(keepdim=True, dim=(0,2,3))\n",
    "    if i % 100 == 0:\n",
    "        print(i)\n",
    "mean /= (len(source_dataloader_train) + len(target_dataloader_train))\n",
    "std /= (len(source_dataloader_train) + len(target_dataloader_train))\n",
    "print(mean.view(-1))\n",
    "print(std.view(-1))"
   ]
  }
 ],
 "metadata": {
  "kernelspec": {
   "display_name": ".venv",
   "language": "python",
   "name": "python3"
  },
  "language_info": {
   "codemirror_mode": {
    "name": "ipython",
    "version": 3
   },
   "file_extension": ".py",
   "mimetype": "text/x-python",
   "name": "python",
   "nbconvert_exporter": "python",
   "pygments_lexer": "ipython3",
   "version": "3.10.11"
  }
 },
 "nbformat": 4,
 "nbformat_minor": 2
}
