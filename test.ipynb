{
 "cells": [
  {
   "cell_type": "code",
   "execution_count": null,
   "metadata": {},
   "outputs": [],
   "source": [
    "import torch\n",
    "from utils.fda import FDA_source_to_target\n",
    "from utils.aug import ExtCompose, ExtToTensor, ExtRandomHorizontalFlip , ExtScale , ExtRandomCrop, ExtGaussianBlur, ExtColorJitter, ExtRandomCompose, ExtResize, ExtNormalize\n",
    "from datasets.cityscapes import CityScapes\n",
    "from datasets.GTA5 import GTA5\n",
    "from torch.utils.data import DataLoader\n",
    "from PIL import Image\n",
    "import numpy as np"
   ]
  },
  {
   "cell_type": "markdown",
   "metadata": {},
   "source": [
    "## FDA TEST"
   ]
  },
  {
   "cell_type": "code",
   "execution_count": null,
   "metadata": {},
   "outputs": [],
   "source": [
    "beta = 0.05\n",
    "h = 512\n",
    "w = 1024\n",
    "b = (  np.floor(np.amin((h,w))*beta)  ).astype(int)\n",
    "b"
   ]
  },
  {
   "cell_type": "code",
   "execution_count": null,
   "metadata": {},
   "outputs": [],
   "source": [
    "standard_transformations = ExtCompose([ExtScale(0.5,interpolation=Image.Resampling.BILINEAR), ExtToTensor()])\n",
    "transformations = ExtCompose([ExtResize((512,1024)), ExtToTensor()])\n",
    "target_transformations = standard_transformations\n",
    "\n",
    "train_dataset = GTA5(root='dataset',transforms=transformations)\n",
    "target_dataset_train = CityScapes(split='train',transforms=target_transformations)\n",
    "\n",
    "source_dataloader_train = DataLoader(train_dataset,\n",
    "                batch_size=1,\n",
    "                shuffle=False,\n",
    "                num_workers=1,\n",
    "                pin_memory=False,\n",
    "                drop_last=True)\n",
    "target_dataloader_train = DataLoader(target_dataset_train,\n",
    "                batch_size=1,\n",
    "                shuffle=False,\n",
    "                num_workers=1,\n",
    "                pin_memory=False,\n",
    "                drop_last=True)\n",
    "\n",
    "for i, (source_data, target_data) in enumerate(zip(source_dataloader_train,target_dataloader_train)):\n",
    "  \n",
    "    if i > 10:\n",
    "        break\n",
    "\n",
    "    source_data,source_label = source_data\n",
    "    target_data,_ = target_data\n",
    "    source_data = source_data.cuda()\n",
    "    source_label = source_label.long().cuda()\n",
    "    target_data = target_data.cuda()\n",
    "\n",
    "    t_source_data = FDA_source_to_target(source_data, target_data, beta=beta)\n",
    "\n",
    "    # Visualize the image\n",
    "    #Image.fromarray(target_data.detach().cpu().numpy().astype('uint8')[0].transpose(1, 2, 0)).show()\n",
    "    #Image.fromarray(source_data.detach().cpu().numpy().astype('uint8')[0].transpose(1, 2, 0)).show()\n",
    "    Image.fromarray(t_source_data.detach().cpu().numpy().astype('uint8')[0].transpose(1, 2, 0)).show()"
   ]
  },
  {
   "cell_type": "code",
   "execution_count": null,
   "metadata": {},
   "outputs": [],
   "source": [
    "GTA_MEAN = torch.tensor([105.8735, 109.0072, 101.7702])\n",
    "GTA_STD = torch.tensor([56.2629, 55.8382, 55.4247])"
   ]
  },
  {
   "cell_type": "code",
   "execution_count": null,
   "metadata": {},
   "outputs": [],
   "source": [
    "standard_transformations = ExtCompose([ExtResize((512,1024)), ExtToTensor()])\n",
    "transformations = ExtCompose([ExtResize((512,1024)), ExtToTensor(), ExtNormalize(mean=GTA_MEAN,std=GTA_STD)])\n",
    "target_transformations = standard_transformations\n",
    "\n",
    "train_dataset = GTA5(root='dataset',transforms=transformations)\n",
    "target_dataset_train = CityScapes(split='train',transforms=transformations)\n",
    "\n",
    "source_dataloader_train = DataLoader(train_dataset,\n",
    "                batch_size=1,\n",
    "                shuffle=False,\n",
    "                num_workers=6,\n",
    "                pin_memory=False,\n",
    "                drop_last=True)\n",
    "target_dataloader_train = DataLoader(target_dataset_train,\n",
    "                batch_size=1,\n",
    "                shuffle=False,\n",
    "                num_workers=6,\n",
    "                pin_memory=False,\n",
    "                drop_last=True)\n",
    "mean = 0.\n",
    "std = 0.\n",
    "K = 1000\n",
    "print(len(source_dataloader_train))\n",
    "for i , (data , labels) in enumerate(source_dataloader_train):\n",
    "    mean += data.mean(keepdim=True,dim=(0,2,3))\n",
    "    std += data.std(keepdim=True, dim=(0,2,3))\n",
    "    if i % 100 == 0:\n",
    "        print(i)\n",
    "for i , (data , labels) in enumerate(target_dataloader_train):\n",
    "    mean += data.mean(keepdim=True,dim=(0,2,3))\n",
    "    std += data.std(keepdim=True, dim=(0,2,3))\n",
    "    if i % 100 == 0:\n",
    "        print(i)\n",
    "mean /= (len(source_dataloader_train) + len(target_dataloader_train))\n",
    "std /= (len(source_dataloader_train) + len(target_dataloader_train))\n",
    "print(mean.view(-1))\n",
    "print(std.view(-1))"
   ]
  },
  {
   "cell_type": "code",
   "execution_count": 19,
   "metadata": {},
   "outputs": [
    {
     "name": "stdout",
     "output_type": "stream",
     "text": [
      "tensor([[[522.5983, 518.2314, 492.0306,  ..., 369.7599, 369.7599, 369.7599],\n",
      "         [522.5983, 518.2314, 496.3974,  ..., 369.7599, 374.1266, 374.1266],\n",
      "         [522.5983, 522.5983, 513.8647,  ..., 374.1266, 378.4935, 378.4935],\n",
      "         ...,\n",
      "         [330.4585, 334.8253, 339.1922,  ..., 260.5895, 269.3231, 269.3231],\n",
      "         [352.2926, 356.6594, 352.2926,  ..., 264.9563, 225.6550, 216.9214],\n",
      "         [361.0262, 365.3930, 356.6594,  ..., 238.7555, 221.2882, 212.5546]],\n",
      "\n",
      "        [[501.2500, 501.2500, 474.4643,  ..., 336.0714, 336.0714, 336.0714],\n",
      "         [501.2500, 501.2500, 483.3929,  ..., 340.5357, 340.5357, 345.0000],\n",
      "         [501.2500, 501.2500, 496.7857,  ..., 345.0000, 349.4642, 349.4642],\n",
      "         ...,\n",
      "         [295.8928, 295.8928, 300.3571,  ..., 309.2857, 318.2143, 313.7500],\n",
      "         [313.7500, 318.2143, 313.7500,  ..., 313.7500, 291.4286, 286.9643],\n",
      "         [322.6785, 327.1429, 318.2143,  ..., 300.3571, 286.9643, 286.9643]],\n",
      "\n",
      "        [[442.3555, 442.3555, 424.5778,  ..., 246.8000, 246.8000, 246.8000],\n",
      "         [442.3555, 442.3555, 429.0222,  ..., 251.2444, 251.2444, 255.6889],\n",
      "         [442.3555, 442.3555, 442.3555,  ..., 255.6889, 260.1333, 260.1333],\n",
      "         ...,\n",
      "         [197.9111, 197.9111, 197.9111,  ..., 269.0222, 269.0222, 269.0222],\n",
      "         [220.1333, 220.1333, 215.6889,  ..., 269.0222, 251.2444, 251.2444],\n",
      "         [220.1333, 224.5778, 220.1333,  ..., 260.1333, 251.2444, 246.8000]]])\n"
     ]
    }
   ],
   "source": [
    "from utils.aug import ExtToV2Tensor, V2Normalize, ExtCompose, ExtResize\n",
    "from datasets.cityscapes import CityScapes\n",
    "from datasets.GTA5 import GTA5\n",
    "from torch.utils.data import DataLoader\n",
    "from PIL import Image\n",
    "from torchvision.transforms import v2\n",
    "standard_transformations = ExtCompose([ExtResize((512,1024)), ExtToV2Tensor(), V2Normalize(scale=True)])\n",
    "train_dataset = GTA5(root='dataset',transforms=standard_transformations)\n",
    "mean=[-0.485, -0.456, -0.406]\n",
    "std=[1/0.229, 1/0.224, 1/0.225]\n",
    "source_dataloader_train = DataLoader(train_dataset,\n",
    "                batch_size=1,\n",
    "                shuffle=False,\n",
    "                num_workers=0,\n",
    "                pin_memory=False,\n",
    "                drop_last=True)\n",
    "\n",
    "for i , (data,label) in enumerate(source_dataloader_train):\n",
    "    if i > 0:\n",
    "        break\n",
    "    \n",
    "    data, _ = V2Normalize(mean=mean,std=std)(data,_)\n",
    "    #data *= -255\n",
    "    print(data[0])\n",
    "    Image.fromarray(data[0].detach().cpu().numpy().astype('uint8').transpose(1, 2, 0)).show()\n"
   ]
  }
 ],
 "metadata": {
  "kernelspec": {
   "display_name": ".venv",
   "language": "python",
   "name": "python3"
  },
  "language_info": {
   "codemirror_mode": {
    "name": "ipython",
    "version": 3
   },
   "file_extension": ".py",
   "mimetype": "text/x-python",
   "name": "python",
   "nbconvert_exporter": "python",
   "pygments_lexer": "ipython3",
   "version": "3.10.11"
  }
 },
 "nbformat": 4,
 "nbformat_minor": 2
}
